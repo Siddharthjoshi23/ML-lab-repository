{
  "nbformat": 4,
  "nbformat_minor": 0,
  "metadata": {
    "colab": {
      "provenance": [],
      "include_colab_link": true
    },
    "kernelspec": {
      "name": "python3",
      "display_name": "Python 3"
    },
    "language_info": {
      "name": "python"
    }
  },
  "cells": [
    {
      "cell_type": "markdown",
      "metadata": {
        "id": "view-in-github",
        "colab_type": "text"
      },
      "source": [
        "<a href=\"https://colab.research.google.com/github/Siddharthjoshi23/ML-lab-repository/blob/main/List_Comprehension_CS3.ipynb\" target=\"_parent\"><img src=\"https://colab.research.google.com/assets/colab-badge.svg\" alt=\"Open In Colab\"/></a>"
      ]
    },
    {
      "cell_type": "code",
      "source": [
        "a = [4,6,7,3,2]\n",
        "b = [x*2 for x in a if x > 5]\n",
        "b"
      ],
      "metadata": {
        "id": "37EPuY6j2vTW",
        "colab": {
          "base_uri": "https://localhost:8080/"
        },
        "outputId": "008346b6-633d-4d67-8ec1-adf117bb89fd"
      },
      "execution_count": null,
      "outputs": [
        {
          "output_type": "execute_result",
          "data": {
            "text/plain": [
              "[12, 14]"
            ]
          },
          "metadata": {},
          "execution_count": 53
        }
      ]
    },
    {
      "cell_type": "code",
      "source": [
        "x = [i for i in range(15)]\n",
        "x"
      ],
      "metadata": {
        "id": "xokNcbjt5elV",
        "colab": {
          "base_uri": "https://localhost:8080/"
        },
        "outputId": "6acd3fc0-49cc-45ea-e781-66905936e90a"
      },
      "execution_count": null,
      "outputs": [
        {
          "output_type": "execute_result",
          "data": {
            "text/plain": [
              "[0, 1, 2, 3, 4, 5, 6, 7, 8, 9, 10, 11, 12, 13, 14]"
            ]
          },
          "metadata": {},
          "execution_count": 52
        }
      ]
    },
    {
      "cell_type": "code",
      "source": [
        "my_list = [i for i in range(1, 30) if i%2==0 if i%5==0]\n",
        "print(my_list)"
      ],
      "metadata": {
        "id": "csY5o9lL6nTD"
      },
      "execution_count": null,
      "outputs": []
    },
    {
      "cell_type": "code",
      "source": [
        "my_list = [2, 5, 8, 11, 15]\n",
        "new_list = [x*2 if x < 10 else x+1 for x in my_list]\n",
        "print(new_list)"
      ],
      "metadata": {
        "id": "KzcpXZGu6di7",
        "colab": {
          "base_uri": "https://localhost:8080/"
        },
        "outputId": "8b869689-e8eb-4894-f500-0ec167eba92a"
      },
      "execution_count": null,
      "outputs": [
        {
          "output_type": "stream",
          "name": "stdout",
          "text": [
            "[4, 10, 16, 12, 16]\n"
          ]
        }
      ]
    },
    {
      "cell_type": "code",
      "source": [
        "names = ['Ch','Dh','Eh','cb','Tb','Td']\n",
        "new_names = [name for name in names if name.lower().startswith('c')]\n",
        "new_names\n"
      ],
      "metadata": {
        "id": "sXPcOeYm27yN",
        "colab": {
          "base_uri": "https://localhost:8080/"
        },
        "outputId": "e9cbf3b5-8f18-4977-ddec-0f32f7308b14"
      },
      "execution_count": null,
      "outputs": [
        {
          "output_type": "execute_result",
          "data": {
            "text/plain": [
              "['Ch', 'cb']"
            ]
          },
          "metadata": {},
          "execution_count": 18
        }
      ]
    },
    {
      "cell_type": "code",
      "source": [
        "new_list = [num * 2 for num in range(5)]\n",
        "new_list"
      ],
      "metadata": {
        "id": "-XlDO7XA34tf",
        "colab": {
          "base_uri": "https://localhost:8080/"
        },
        "outputId": "05208b56-aa35-4f3b-e05e-5db698415349"
      },
      "execution_count": null,
      "outputs": [
        {
          "output_type": "execute_result",
          "data": {
            "text/plain": [
              "[0, 2, 4, 6, 8]"
            ]
          },
          "metadata": {},
          "execution_count": 21
        }
      ]
    },
    {
      "cell_type": "code",
      "source": [
        "new_list = [num for num in range(50) if  num > 20 and num % 2 == 0]\n",
        "new_list"
      ],
      "metadata": {
        "id": "CErX4Qvj3-rW",
        "colab": {
          "base_uri": "https://localhost:8080/"
        },
        "outputId": "90b703ec-963e-4e79-a6b4-b4355b6f1add"
      },
      "execution_count": null,
      "outputs": [
        {
          "output_type": "execute_result",
          "data": {
            "text/plain": [
              "[22, 24, 26, 28, 30, 32, 34, 36, 38, 40, 42, 44, 46, 48]"
            ]
          },
          "metadata": {},
          "execution_count": 22
        }
      ]
    },
    {
      "cell_type": "code",
      "source": [
        "fave_language_chars = [letter for letter in \"Python\"]\n",
        "fave_language_chars"
      ],
      "metadata": {
        "id": "z8uvh7m74Fuj",
        "colab": {
          "base_uri": "https://localhost:8080/"
        },
        "outputId": "b7a56bdb-ba47-4b4b-fb26-ebb699881dbf"
      },
      "execution_count": null,
      "outputs": [
        {
          "output_type": "execute_result",
          "data": {
            "text/plain": [
              "['P', 'y', 't', 'h', 'o', 'n']"
            ]
          },
          "metadata": {},
          "execution_count": 23
        }
      ]
    },
    {
      "cell_type": "code",
      "execution_count": 3,
      "metadata": {
        "id": "xoC4UeWtx_Mx",
        "colab": {
          "base_uri": "https://localhost:8080/"
        },
        "outputId": "06be3f99-3427-44f1-b962-07020b119305"
      },
      "outputs": [
        {
          "output_type": "stream",
          "name": "stdout",
          "text": [
            "[7, 14, 21, 28, 35, 42, 49, 56, 63, 70, 77, 84, 91, 98, 105, 112, 119, 126, 133, 140, 147, 154, 161, 168, 175, 182, 189, 196, 203, 210, 217, 224, 231, 238, 245, 252, 259, 266, 273, 280, 287, 294, 301, 308, 315, 322, 329, 336, 343, 350, 357, 364, 371, 378, 385, 392, 399, 406, 413, 420, 427, 434, 441, 448, 455, 462, 469, 476, 483, 490, 497, 504, 511, 518, 525, 532, 539, 546, 553, 560, 567, 574, 581, 588, 595, 602, 609, 616, 623, 630, 637, 644, 651, 658, 665, 672, 679, 686, 693, 700, 707, 714, 721, 728, 735, 742, 749, 756, 763, 770, 777, 784, 791, 798, 805, 812, 819, 826, 833, 840, 847, 854, 861, 868, 875, 882, 889, 896, 903, 910, 917, 924, 931, 938, 945, 952, 959, 966, 973, 980, 987, 994]\n"
          ]
        }
      ],
      "source": [
        "'''\n",
        "Find all of the numbers from 1-1000 that are divisible by 7\n",
        "'''\n",
        "new_list = [num for num in range(1, 1001) if num%7==0]\n",
        "print(new_list)"
      ]
    },
    {
      "cell_type": "code",
      "source": [
        "'''\n",
        "Find all of the numbers from 1-1000 that have a 3 in them\n",
        "'''\n",
        "new_list = [num for num in range(1, 1001) if '3' in str(num)]\n",
        "print(new_list)"
      ],
      "metadata": {
        "id": "rQkcovqcyQbw",
        "colab": {
          "base_uri": "https://localhost:8080/"
        },
        "outputId": "7f840449-bbe7-45e2-dd43-985ccde9f2b8"
      },
      "execution_count": 2,
      "outputs": [
        {
          "output_type": "stream",
          "name": "stdout",
          "text": [
            "[3, 13, 23, 30, 31, 32, 33, 34, 35, 36, 37, 38, 39, 43, 53, 63, 73, 83, 93, 103, 113, 123, 130, 131, 132, 133, 134, 135, 136, 137, 138, 139, 143, 153, 163, 173, 183, 193, 203, 213, 223, 230, 231, 232, 233, 234, 235, 236, 237, 238, 239, 243, 253, 263, 273, 283, 293, 300, 301, 302, 303, 304, 305, 306, 307, 308, 309, 310, 311, 312, 313, 314, 315, 316, 317, 318, 319, 320, 321, 322, 323, 324, 325, 326, 327, 328, 329, 330, 331, 332, 333, 334, 335, 336, 337, 338, 339, 340, 341, 342, 343, 344, 345, 346, 347, 348, 349, 350, 351, 352, 353, 354, 355, 356, 357, 358, 359, 360, 361, 362, 363, 364, 365, 366, 367, 368, 369, 370, 371, 372, 373, 374, 375, 376, 377, 378, 379, 380, 381, 382, 383, 384, 385, 386, 387, 388, 389, 390, 391, 392, 393, 394, 395, 396, 397, 398, 399, 403, 413, 423, 430, 431, 432, 433, 434, 435, 436, 437, 438, 439, 443, 453, 463, 473, 483, 493, 503, 513, 523, 530, 531, 532, 533, 534, 535, 536, 537, 538, 539, 543, 553, 563, 573, 583, 593, 603, 613, 623, 630, 631, 632, 633, 634, 635, 636, 637, 638, 639, 643, 653, 663, 673, 683, 693, 703, 713, 723, 730, 731, 732, 733, 734, 735, 736, 737, 738, 739, 743, 753, 763, 773, 783, 793, 803, 813, 823, 830, 831, 832, 833, 834, 835, 836, 837, 838, 839, 843, 853, 863, 873, 883, 893, 903, 913, 923, 930, 931, 932, 933, 934, 935, 936, 937, 938, 939, 943, 953, 963, 973, 983, 993]\n"
          ]
        }
      ]
    },
    {
      "cell_type": "code",
      "source": [
        "'''\n",
        "Count the number of spaces in a string\n",
        "'''\n",
        "some_string = 'the slow solid squid swam sumptuously through the slimy swamp'\n",
        "\n",
        "new = [space for space in some_string if ' ' in space]\n",
        "print(len(new))"
      ],
      "metadata": {
        "id": "gIz_poFJybA0",
        "colab": {
          "base_uri": "https://localhost:8080/"
        },
        "outputId": "a44e9d74-d44c-4728-f0f3-0431f4bb9fe5"
      },
      "execution_count": null,
      "outputs": [
        {
          "output_type": "stream",
          "name": "stdout",
          "text": [
            "9\n"
          ]
        }
      ]
    },
    {
      "cell_type": "code",
      "source": [
        "'''\n",
        "Create a list of all the consonants in the string \"Yellow Yaks like yelling and yawning and yesturday they yodled while eating yuky yams\"\n",
        "'''\n",
        "sentence = \"Yellow Yaks like yelling and yawning and yesturday they yodled while eating yuky yams\"\n",
        "\n",
        "new = [s for s in sentence if s!='a' if s!='e' if s!='i' if s!='o' if s!='u' if s!=' ']\n",
        "print(len(new))\n"
      ],
      "metadata": {
        "id": "PFOkO8c3yoRD",
        "colab": {
          "base_uri": "https://localhost:8080/"
        },
        "outputId": "42b24b56-93d0-4782-d90f-c3f9aa0178b9"
      },
      "execution_count": null,
      "outputs": [
        {
          "output_type": "stream",
          "name": "stdout",
          "text": [
            "48\n"
          ]
        }
      ]
    },
    {
      "cell_type": "code",
      "source": [
        "'''\n",
        " Get the index and the value as a tuple for items in the list [\"hi\", 4, 8.99, 'apple', ('t,b','n')].  Result would look like [(index, value), (index, value)]\n",
        " '''\n",
        "list = [\"hi\", 4, 8.99, 'apple', ('t,b','n')]\n",
        "r = [(index, value) for (index, value) in enumerate(list) ]\n",
        "r"
      ],
      "metadata": {
        "id": "b7nRCAHEy1dK",
        "colab": {
          "base_uri": "https://localhost:8080/"
        },
        "outputId": "dbad2f52-c20e-45f8-fe1b-81392b1b6edc"
      },
      "execution_count": null,
      "outputs": [
        {
          "output_type": "execute_result",
          "data": {
            "text/plain": [
              "[(0, 'hi'), (1, 4), (2, 8.99), (3, 'apple'), (4, ('t,b', 'n'))]"
            ]
          },
          "metadata": {},
          "execution_count": 46
        }
      ]
    },
    {
      "cell_type": "code",
      "source": [
        "'''\n",
        "Find the common numbers in two lists (without using a tuple or set) list_a = [1, 2, 3, 4], list_b = [2, 3, 4, 5]\n",
        "'''\n",
        "list_a = [1, 2, 3, 4]\n",
        "list_b = [2, 3, 4, 5]\n",
        "r = [i for i in list_a if i in list_b]\n",
        "r"
      ],
      "metadata": {
        "id": "BruGk2mxy6q9",
        "colab": {
          "base_uri": "https://localhost:8080/"
        },
        "outputId": "5b22913b-dfac-4da4-82ca-98b9e5a78d4a"
      },
      "execution_count": null,
      "outputs": [
        {
          "output_type": "execute_result",
          "data": {
            "text/plain": [
              "[2, 3, 4]"
            ]
          },
          "metadata": {},
          "execution_count": 52
        }
      ]
    },
    {
      "cell_type": "code",
      "source": [
        "'''\n",
        "Get only the numbers in a sentence like 'In 1984 there were 13 instances of a protest with over 1000 people attending'.  Result is a list of numbers like [3,4,5]\n",
        "'''\n",
        "sentence = 'In 1984 there were 13 instances of a protest with over 1000 people attending'\n",
        "word = sentence.split()\n",
        "r = [x for x in word if not x.isalpha()]\n",
        "r"
      ],
      "metadata": {
        "id": "JU9uVJq2zBVB",
        "colab": {
          "base_uri": "https://localhost:8080/"
        },
        "outputId": "4cbe336e-af7d-4b59-81df-8168f325c3d1"
      },
      "execution_count": null,
      "outputs": [
        {
          "output_type": "execute_result",
          "data": {
            "text/plain": [
              "['1984', '13', '1000']"
            ]
          },
          "metadata": {},
          "execution_count": 53
        }
      ]
    },
    {
      "cell_type": "code",
      "source": [
        "'''Find all of the words in a string that are less than 4 letters'''\n",
        "sentence = 'On a summer day somner smith went simming in the sun and his red skin stung'\n",
        "\n",
        "examine = sentence.split()\n",
        "\n",
        "result = [word for word in examine if len(word) >=4]\n",
        "print(result)"
      ],
      "metadata": {
        "id": "Lga5eySb0tJ-",
        "colab": {
          "base_uri": "https://localhost:8080/"
        },
        "outputId": "79e34c00-6e2f-445d-8ec9-86a6cf5173c0"
      },
      "execution_count": 1,
      "outputs": [
        {
          "output_type": "stream",
          "name": "stdout",
          "text": [
            "['summer', 'somner', 'smith', 'went', 'simming', 'skin', 'stung']\n"
          ]
        }
      ]
    },
    {
      "cell_type": "code",
      "source": [
        "'''\n",
        "Produce a list of tuples consisting of only the matching numbers in these lists list_a = [1, 2, 3,4,5,6,7,8,9], list_b = [2, 7, 1, 12].  Result would look like (4,4), (12,12)\n",
        "'''\n",
        "a = [1, 2, 3,4,5,6,7,8,9]\n",
        "b = [2, 7, 1, 12]\n",
        "r = [i for i in a if i in b]\n",
        "r\n"
      ],
      "metadata": {
        "id": "lc9rl2Nazz1O",
        "colab": {
          "base_uri": "https://localhost:8080/"
        },
        "outputId": "886e9efd-0841-41ba-f9ba-6ab6e16385b2"
      },
      "execution_count": 4,
      "outputs": [
        {
          "output_type": "execute_result",
          "data": {
            "text/plain": [
              "[1, 2, 7]"
            ]
          },
          "metadata": {},
          "execution_count": 4
        }
      ]
    }
  ]
}